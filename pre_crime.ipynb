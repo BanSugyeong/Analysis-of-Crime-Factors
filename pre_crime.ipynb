{
 "cells": [
  {
   "cell_type": "code",
   "execution_count": 1,
   "metadata": {},
   "outputs": [],
   "source": [
    "import pandas as pd\n",
    "import numpy as np\n",
    "import matplotlib.pyplot as plt\n",
    "import seaborn\n",
    "\n",
    "%matplotlib inline"
   ]
  },
  {
   "cell_type": "markdown",
   "metadata": {},
   "source": [
    "## 데이터 불러오기"
   ]
  },
  {
   "cell_type": "code",
   "execution_count": 56,
   "metadata": {},
   "outputs": [],
   "source": [
    "crime_place_20 = pd.read_csv('data/발생장소_2020.csv', encoding='cp949')\n",
    "crime_place_21 = pd.read_csv('data/발생장소_2021.csv', encoding='cp949')\n",
    "crime_place_22 = pd.read_csv('data/발생장소_2022.csv', encoding='cp949')\n",
    "\n",
    "crime_area_20 = pd.read_csv('data/발생지역_2020.csv', encoding='cp949')\n",
    "crime_area_21 = pd.read_csv('data/발생지역_2021.csv', encoding='cp949')\n",
    "crime_area_22 = pd.read_csv('data/발생지역_2022.csv', encoding='cp949')\n",
    "\n",
    "crime_time_18 = pd.read_csv('data/발생시간대_요일_2018.csv', encoding='cp949')\n",
    "crime_time_19 = pd.read_csv('data/발생시간대_요일_2019.csv', encoding='cp949')\n",
    "\n",
    "crime_pop_21 = pd.read_csv('data/지역별 성별 연령별 주민등록 인구수_21.csv', encoding='cp949')\n",
    "crime_pop_22 = pd.read_csv('data/지역별 성별 연령별 주민등록 인구수_22.csv', encoding='cp949')"
   ]
  },
  {
   "cell_type": "markdown",
   "metadata": {},
   "source": [
    "- '범죄대분류'를 기준으로 중복된 칼럼 값 합침\n",
    "- 전체 value 합산하여 'SUM' 으로 저장"
   ]
  },
  {
   "cell_type": "code",
   "execution_count": 57,
   "metadata": {},
   "outputs": [],
   "source": [
    "dataframes_area = [crime_area_20, crime_area_21, crime_area_22]\n",
    "exclude_columns = ['범죄대분류']\n",
    "\n",
    "# 지역별 범죄발생 건수 통합 행 추가 및 '범죄대분류' 기준 그룹화\n",
    "for i, df in enumerate(dataframes_area):\n",
    "    # '범죄중분류' 칼럼 삭제\n",
    "    df.drop(columns=['범죄중분류'], inplace=True)\n",
    "    \n",
    "    # '범죄대분류'를 기준으로 그룹화하여 '발생건수' 합계 계산\n",
    "    df_grouped = df.groupby('범죄대분류', as_index=False).sum()\n",
    "\n",
    "    # 모든 열을 합산하여 'SUM' 행 추가\n",
    "    sum_row_grouped = df_grouped.drop(columns='범죄대분류').sum()\n",
    "    sum_row_grouped['범죄대분류'] = 'SUM'\n",
    "    \n",
    "    df_grouped.loc['SUM'] = sum_row_grouped\n",
    "    \n",
    "    # 변경된 데이터프레임을 다시 리스트에 반영\n",
    "    dataframes_area[i] = df_grouped\n",
    "    \n",
    "\n",
    "crime_area_20, crime_area_21, crime_area_22 = dataframes_area"
   ]
  },
  {
   "cell_type": "code",
   "execution_count": 67,
   "metadata": {},
   "outputs": [],
   "source": [
    "crime_area_20.to_csv('pre_data/crime_area_20.csv', encoding='cp949', index=False)\n",
    "crime_area_21.to_csv('pre_data/crime_area_21.csv', encoding='cp949', index=False)\n",
    "crime_area_22.to_csv('pre_data/crime_area_22.csv', encoding='cp949', index=False)"
   ]
  },
  {
   "cell_type": "code",
   "execution_count": 59,
   "metadata": {},
   "outputs": [],
   "source": [
    "dataframes_place = [crime_place_20, crime_place_21, crime_place_22]\n",
    "exclude_columns = ['범죄대분류']\n",
    "\n",
    "# 지역별 범죄발생 건수 통합 행 추가 및 '범죄대분류' 기준 그룹화\n",
    "for i, df in enumerate(dataframes_place):\n",
    "    # '범죄중분류' 칼럼 삭제\n",
    "    df.drop(columns=['범죄중분류'], inplace=True)\n",
    "    \n",
    "    # '범죄대분류'를 기준으로 그룹화하여 '발생건수' 합계 계산\n",
    "    df_grouped = df.groupby('범죄대분류', as_index=False).sum()\n",
    "\n",
    "    # 모든 열을 합산하여 'SUM' 행 추가\n",
    "    sum_row_grouped = df_grouped.drop(columns='범죄대분류').sum()\n",
    "    sum_row_grouped['범죄대분류'] = 'SUM'\n",
    "    \n",
    "    df_grouped.loc['SUM'] = sum_row_grouped\n",
    "    \n",
    "    # 변경된 데이터프레임을 다시 리스트에 반영\n",
    "    dataframes_place[i] = df_grouped\n",
    "    \n",
    "\n",
    "crime_place_20, crime_place_21, crime_place_22 = dataframes_place"
   ]
  },
  {
   "cell_type": "code",
   "execution_count": 68,
   "metadata": {},
   "outputs": [],
   "source": [
    "crime_place_20.to_csv('pre_data/crime_place_20.csv', encoding='cp949', index=False)\n",
    "crime_place_21.to_csv('pre_data/crime_place_21.csv', encoding='cp949', index=False)\n",
    "crime_place_22.to_csv('pre_data/crime_place_22.csv', encoding='cp949', index=False)"
   ]
  },
  {
   "cell_type": "code",
   "execution_count": null,
   "metadata": {},
   "outputs": [],
   "source": []
  }
 ],
 "metadata": {
  "kernelspec": {
   "display_name": "base",
   "language": "python",
   "name": "python3"
  },
  "language_info": {
   "codemirror_mode": {
    "name": "ipython",
    "version": 3
   },
   "file_extension": ".py",
   "mimetype": "text/x-python",
   "name": "python",
   "nbconvert_exporter": "python",
   "pygments_lexer": "ipython3",
   "version": "3.11.5"
  }
 },
 "nbformat": 4,
 "nbformat_minor": 2
}
