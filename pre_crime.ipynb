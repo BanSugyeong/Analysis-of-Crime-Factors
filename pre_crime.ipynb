{
 "cells": [
  {
   "cell_type": "code",
   "execution_count": 2,
   "metadata": {},
   "outputs": [],
   "source": [
    "import pandas as pd\n",
    "import numpy as np\n",
    "import matplotlib.pyplot as plt\n",
    "import seaborn\n",
    "\n",
    "%matplotlib inline"
   ]
  },
  {
   "cell_type": "markdown",
   "metadata": {},
   "source": [
    "## 데이터 불러오기"
   ]
  },
  {
   "cell_type": "code",
   "execution_count": 7,
   "metadata": {},
   "outputs": [],
   "source": [
    "crime_place_20 = pd.read_csv('data/발생장소_2020.csv', encoding='cp949')\n",
    "crime_place_21 = pd.read_csv('data/발생장소_2021.csv', encoding='cp949')\n",
    "crime_place_22 = pd.read_csv('data/발생장소_2022.csv', encoding='cp949')\n",
    "\n",
    "crime_area_20 = pd.read_csv('data/발생지역_2020.csv', encoding='cp949')\n",
    "crime_area_21 = pd.read_csv('data/발생지역_2021.csv', encoding='cp949')\n",
    "crime_area_22 = pd.read_csv('data/발생지역_2022.csv', encoding='cp949')\n",
    "\n",
    "crime_time_18 = pd.read_csv('data/발생시간대_요일_2018.csv', encoding='cp949')\n",
    "crime_time_19 = pd.read_csv('data/발생시간대_요일_2019.csv', encoding='cp949')"
   ]
  },
  {
   "cell_type": "code",
   "execution_count": 9,
   "metadata": {},
   "outputs": [
    {
     "name": "stdout",
     "output_type": "stream",
     "text": [
      "  범죄대분류  범죄중분류  아파트-연립다세대  단독주택  고속도로   노상  백화점  슈퍼마켓  편의점  대형할인매장  ...  종교기관  \\\n",
      "0  강력범죄   살인기수        111    80     0   42    0     0    0       0  ...     3   \n",
      "1  강력범죄  살인미수등         99    92     0   96    0     1    1       1  ...     1   \n",
      "2  강력범죄     강도         77    54     1  164    1    17   68       1  ...     1   \n",
      "3  강력범죄     강간       1516   958     3  157    0     0    5       0  ...    10   \n",
      "4  강력범죄   유사강간        229   131     0   43    0     0    3       0  ...     2   \n",
      "\n",
      "   산야  해상  부대  구금장소  공지  주차장  공중화장실  피씨방   기타  \n",
      "0   5   0   0     0   1    2      1    0   20  \n",
      "1   2   3   0     0   0   11      1    0   28  \n",
      "2   4   0   0     0   0   19      0    3   34  \n",
      "3  12   1   0     0   0   37     44    3  299  \n",
      "4   1   0   1     2   0    7      8    0   64  \n",
      "\n",
      "[5 rows x 36 columns]\n",
      "  범죄대분류  범죄중분류  아파트_연립다세대  단독주택  고속도로   노상  백화점  슈퍼마켓  편의점  대형할인매장  ...  종교기관  \\\n",
      "0  강력범죄   살인기수         92    57     1   43    0     0    0       0  ...     0   \n",
      "1  강력범죄  살인미수등        116    67     1   87    0     3    3       0  ...     1   \n",
      "2  강력범죄     강도         78    47     1  114    2    10   39       3  ...     1   \n",
      "3  강력범죄     강간       1561   976     2  127    0     0    1       0  ...     8   \n",
      "4  강력범죄   유사강간        247   147     0   36    0     0    2       0  ...     2   \n",
      "\n",
      "   산야  해상  부대  구금장소  공지  주차장  공중화장실  피씨방   기타  \n",
      "0   2   1   0     0   0    2      0    1   19  \n",
      "1   2   0   0     0   0    7      1    0   28  \n",
      "2   4   0   0     0   0   10      3    1   36  \n",
      "3   8   0   1     0   1   20     43    4  377  \n",
      "4   1   0   0     1   0   11      9    1   60  \n",
      "\n",
      "[5 rows x 36 columns]\n",
      "  범죄대분류  범죄중분류  아파트_연립다세대  단독주택  고속도로   노상  백화점  슈퍼마켓  편의점  대형할인매장  ...  종교기관  \\\n",
      "0  강력범죄   살인기수        114    60     0   28    0     0    1       0  ...     1   \n",
      "1  강력범죄  살인미수등        123    85     0  105    0     1    0       1  ...     1   \n",
      "2  강력범죄     강도         62    46     0  141    0    12   32       1  ...     0   \n",
      "3  강력범죄     강간       1616   880     0  158    0     2    3       0  ...     7   \n",
      "4  강력범죄   유사강간        240   147     2   57    1     0    0       0  ...     2   \n",
      "\n",
      "   산야  해상  부대  구금장소  공지  주차장  공중화장실  피씨방   기타  \n",
      "0   3   3   0     0   0    5      0    0   17  \n",
      "1   3   0   0     0   0    5      2    1   33  \n",
      "2   3   0   0     1   0   21      1    4   30  \n",
      "3   9   0   1     0   1   45     48    3  560  \n",
      "4   5   0   0     2   0    7     12    1  111  \n",
      "\n",
      "[5 rows x 36 columns]\n"
     ]
    }
   ],
   "source": [
    "print(crime_place_20.head())\n",
    "print(crime_place_21.head())\n",
    "print(crime_place_22.head())"
   ]
  },
  {
   "cell_type": "code",
   "execution_count": null,
   "metadata": {},
   "outputs": [],
   "source": []
  }
 ],
 "metadata": {
  "kernelspec": {
   "display_name": "base",
   "language": "python",
   "name": "python3"
  },
  "language_info": {
   "codemirror_mode": {
    "name": "ipython",
    "version": 3
   },
   "file_extension": ".py",
   "mimetype": "text/x-python",
   "name": "python",
   "nbconvert_exporter": "python",
   "pygments_lexer": "ipython3",
   "version": "3.11.5"
  }
 },
 "nbformat": 4,
 "nbformat_minor": 2
}
